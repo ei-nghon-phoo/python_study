{
 "cells": [
  {
   "cell_type": "code",
   "execution_count": 109,
   "id": "c24785d5",
   "metadata": {},
   "outputs": [],
   "source": [
    "class Spaceship:\n",
    "   # Class attribute\n",
    "   tractor_beam = 'off'\n",
    "\n",
    "   # Instance attributes\n",
    "   def __init__(self, name, kind):\n",
    "       self.name = name\n",
    "       self.kind = kind\n",
    "       self.speed = None\n",
    "\n",
    "  # Instance methods\n",
    "   def warp(self, warp):\n",
    "       self.speed = warp + 34\n",
    "       print(self.speed, 'engage!')\n",
    "\n",
    "   def tractor(self):\n",
    "       if self.tractor_beam == 'off':\n",
    "           self.tractor_beam = 'on'\n",
    "           print('Tractor beam on.')\n",
    "       else:\n",
    "           self.tractor_beam = 'off'\n",
    "           print('Tractor beam off')"
   ]
  },
  {
   "cell_type": "code",
   "execution_count": 110,
   "id": "6cce54a9",
   "metadata": {},
   "outputs": [
    {
     "name": "stdout",
     "output_type": "stream",
     "text": [
      "111 engage!\n"
     ]
    },
    {
     "data": {
      "text/plain": [
       "'rescue frigate'"
      ]
     },
     "execution_count": 110,
     "metadata": {},
     "output_type": "execute_result"
    }
   ],
   "source": [
    "# Create an instance of the Spaceship class (i.e. \"instantiate\")\n",
    "ship = Spaceship('Mockingbird','rescue frigate')\n",
    "\n",
    "# Set warp speed\n",
    "ship.warp(77)\n",
    "\n",
    "# Check speed\n",
    "ship.kind"
   ]
  },
  {
   "cell_type": "code",
   "execution_count": 29,
   "id": "be722c27",
   "metadata": {},
   "outputs": [],
   "source": [
    "class university:\n",
    "    #class attribute\n",
    "    uni_status= \"closed\"\n",
    "    \n",
    "    def __init__(self, name, class_size, location):\n",
    "        self.name=name\n",
    "        self.class_size= class_size\n",
    "        self.location = location\n",
    "        self.founding_year =  None\n",
    "    \n",
    "    def wrap(self,wrap):\n",
    "        self.founding_year = wrap\n",
    "        print(self.founding_year)\n",
    "        \n",
    "    def global_var(self):\n",
    "        print(self.unit_status)"
   ]
  },
  {
   "cell_type": "code",
   "execution_count": 31,
   "id": "6541cfca",
   "metadata": {},
   "outputs": [],
   "source": [
    "uit = university('uit', 100, 'yangon')\n",
    "\n",
    "#uni.wrap(2000)"
   ]
  },
  {
   "cell_type": "code",
   "execution_count": 33,
   "id": "0c0fef21",
   "metadata": {},
   "outputs": [
    {
     "data": {
      "text/plain": [
       "'uit'"
      ]
     },
     "execution_count": 33,
     "metadata": {},
     "output_type": "execute_result"
    }
   ],
   "source": [
    "uit.name"
   ]
  },
  {
   "cell_type": "code",
   "execution_count": 34,
   "id": "70a40b37",
   "metadata": {},
   "outputs": [
    {
     "name": "stdout",
     "output_type": "stream",
     "text": [
      "2000\n"
     ]
    }
   ],
   "source": [
    "uit.wrap(2000)"
   ]
  },
  {
   "cell_type": "code",
   "execution_count": 36,
   "id": "f4922880",
   "metadata": {},
   "outputs": [
    {
     "name": "stdout",
     "output_type": "stream",
     "text": [
      "closed\n"
     ]
    }
   ],
   "source": [
    "print(uit.uni_status)"
   ]
  },
  {
   "cell_type": "code",
   "execution_count": 44,
   "id": "186026e2",
   "metadata": {},
   "outputs": [
    {
     "name": "stdout",
     "output_type": "stream",
     "text": [
      "[22, 32, 34, 56]\n"
     ]
    }
   ],
   "source": [
    "age =[34,22,56, 32]\n",
    "print(sorted(age))"
   ]
  },
  {
   "cell_type": "code",
   "execution_count": 51,
   "id": "70598567",
   "metadata": {},
   "outputs": [
    {
     "name": "stdout",
     "output_type": "stream",
     "text": [
      "56\n"
     ]
    }
   ],
   "source": [
    "print(str(max(age))) #changing var type"
   ]
  },
  {
   "cell_type": "code",
   "execution_count": 52,
   "id": "fc343b37",
   "metadata": {},
   "outputs": [],
   "source": [
    "Apple=\"apple\""
   ]
  },
  {
   "cell_type": "code",
   "execution_count": 53,
   "id": "295e75c6",
   "metadata": {},
   "outputs": [
    {
     "data": {
      "text/plain": [
       "'apple'"
      ]
     },
     "execution_count": 53,
     "metadata": {},
     "output_type": "execute_result"
    }
   ],
   "source": [
    "Apple"
   ]
  },
  {
   "cell_type": "markdown",
   "id": "babb69fa",
   "metadata": {},
   "source": [
    "## Function with return"
   ]
  },
  {
   "cell_type": "code",
   "execution_count": 56,
   "id": "bbc88a6e",
   "metadata": {},
   "outputs": [
    {
     "data": {
      "text/plain": [
       "18.333333333333332"
      ]
     },
     "execution_count": 56,
     "metadata": {},
     "output_type": "execute_result"
    }
   ],
   "source": [
    "def to_celsius(x):\n",
    "   '''Convert Fahrenheit to Celsius'''\n",
    "   return (x-32) * 5/9\n",
    "\n",
    "to_celsius(65)"
   ]
  },
  {
   "cell_type": "markdown",
   "id": "7836d7fa",
   "metadata": {},
   "source": [
    "## If Else"
   ]
  },
  {
   "cell_type": "code",
   "execution_count": 95,
   "id": "ba7e6b8f",
   "metadata": {},
   "outputs": [],
   "source": [
    "class numbers: \n",
    "    def __init__(self,number):\n",
    "        self.number = number\n",
    "\n",
    "    def check_num(self, num):\n",
    "        if num > 0:\n",
    "           print('Number is positive.')\n",
    "        elif num == 0:\n",
    "           print('Number is zero.')\n",
    "        else:\n",
    "           print('Number is negative.')\n",
    "    def addition(self):\n",
    "        return (self.number + 34)\n",
    "    def checking_type(self):\n",
    "        return (type(self.number))"
   ]
  },
  {
   "cell_type": "code",
   "execution_count": 111,
   "id": "164d1da8",
   "metadata": {},
   "outputs": [],
   "source": [
    "num_class = numbers(34.232)"
   ]
  },
  {
   "cell_type": "markdown",
   "id": "a4ba3f6b",
   "metadata": {},
   "source": [
    "num.addition()"
   ]
  },
  {
   "cell_type": "code",
   "execution_count": 97,
   "id": "697c8c75",
   "metadata": {},
   "outputs": [
    {
     "name": "stdout",
     "output_type": "stream",
     "text": [
      "Number is negative.\n"
     ]
    }
   ],
   "source": [
    "num_class.check_num(-29)"
   ]
  },
  {
   "cell_type": "code",
   "execution_count": 98,
   "id": "1b170a30",
   "metadata": {},
   "outputs": [
    {
     "data": {
      "text/plain": [
       "57"
      ]
     },
     "execution_count": 98,
     "metadata": {},
     "output_type": "execute_result"
    }
   ],
   "source": [
    "num_class.addition()"
   ]
  },
  {
   "cell_type": "code",
   "execution_count": 112,
   "id": "d9a065df",
   "metadata": {},
   "outputs": [
    {
     "data": {
      "text/plain": [
       "float"
      ]
     },
     "execution_count": 112,
     "metadata": {},
     "output_type": "execute_result"
    }
   ],
   "source": [
    "num_class.checking_type()"
   ]
  },
  {
   "cell_type": "markdown",
   "id": "1e67d603",
   "metadata": {},
   "source": [
    "## Type casting (changing var types)"
   ]
  },
  {
   "cell_type": "code",
   "execution_count": 116,
   "id": "43b4279c",
   "metadata": {},
   "outputs": [
    {
     "name": "stdout",
     "output_type": "stream",
     "text": [
      "126 34\n"
     ]
    }
   ],
   "source": [
    "print(str(34+92) + \" \" + \"34\")"
   ]
  },
  {
   "cell_type": "code",
   "execution_count": null,
   "id": "2f2b09ec",
   "metadata": {},
   "outputs": [],
   "source": []
  }
 ],
 "metadata": {
  "kernelspec": {
   "display_name": "Python 3 (ipykernel)",
   "language": "python",
   "name": "python3"
  },
  "language_info": {
   "codemirror_mode": {
    "name": "ipython",
    "version": 3
   },
   "file_extension": ".py",
   "mimetype": "text/x-python",
   "name": "python",
   "nbconvert_exporter": "python",
   "pygments_lexer": "ipython3",
   "version": "3.9.7"
  }
 },
 "nbformat": 4,
 "nbformat_minor": 5
}
